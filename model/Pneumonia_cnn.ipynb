{
  "nbformat": 4,
  "nbformat_minor": 0,
  "metadata": {
    "colab": {
      "name": "Pneumonia_cnn.ipynb",
      "provenance": [],
      "collapsed_sections": []
    },
    "kernelspec": {
      "name": "python3",
      "display_name": "Python 3"
    }
  },
  "cells": [
    {
      "cell_type": "markdown",
      "metadata": {
        "id": "OoQkhS-5mOeS"
      },
      "source": [
        "**Imported necessary libaries **"
      ]
    },
    {
      "cell_type": "code",
      "metadata": {
        "id": "ZwZ1ufnolq-p"
      },
      "source": [
        "from keras.models import Sequential\r\n",
        "from keras.layers import Dense\r\n",
        "from keras.layers import Convolution2D\r\n",
        "from keras.layers import MaxPooling2D\r\n",
        "from keras.layers import Flatten"
      ],
      "execution_count": null,
      "outputs": []
    },
    {
      "cell_type": "code",
      "metadata": {
        "id": "SsaInGBZmWaq"
      },
      "source": [
        "#image preprocessing \r\n",
        "\r\n",
        "from keras.preprocessing.image import ImageDataGenerator"
      ],
      "execution_count": null,
      "outputs": []
    },
    {
      "cell_type": "code",
      "metadata": {
        "id": "RtwmC7nNmnAo"
      },
      "source": [
        "#functionalities\r\n",
        "\r\n",
        "train_datagen = ImageDataGenerator(rescale=1./255,shear_range=0.2,zoom_range=0.2,horizontal_flip=True)\r\n",
        "test_datagen =ImageDataGenerator(rescale=1./255)"
      ],
      "execution_count": null,
      "outputs": []
    },
    {
      "cell_type": "code",
      "metadata": {
        "colab": {
          "base_uri": "https://localhost:8080/"
        },
        "id": "lQt5vd6cnENo",
        "outputId": "075a772a-510b-4e40-f1d3-8d27fdb288bb"
      },
      "source": [
        "#apply functionalities to images\r\n",
        "\r\n",
        "x_train =train_datagen.flow_from_directory(\"/content/drive/MyDrive/pneumonia_prediction/chest_xray_data_set/train\",target_size=(64,64),batch_size=32)\r\n",
        "x_test =test_datagen.flow_from_directory(\"/content/drive/MyDrive/pneumonia_prediction/chest_xray_data_set/test\",target_size=(64,64),batch_size=32)\r\n"
      ],
      "execution_count": null,
      "outputs": [
        {
          "output_type": "stream",
          "text": [
            "Found 5216 images belonging to 2 classes.\n",
            "Found 624 images belonging to 2 classes.\n"
          ],
          "name": "stdout"
        }
      ]
    },
    {
      "cell_type": "code",
      "metadata": {
        "id": "Eo1p46Xtpb9o"
      },
      "source": [
        "#adding cnn layers\r\n",
        "\r\n",
        "model=Sequential()\r\n",
        "model.add(Convolution2D(32,(3,3),input_shape=(64,64,3),activation=\"relu\"))\r\n",
        "model.add(MaxPooling2D(pool_size=(2,2)))\r\n",
        "model.add(Flatten()) #input layer\r\n",
        "model.add(Dense(units=128,kernel_initializer='uniform',activation=\"relu\"))\r\n",
        "model.add(Dense(units=2,kernel_initializer='uniform',activation=\"softmax\"))"
      ],
      "execution_count": null,
      "outputs": []
    },
    {
      "cell_type": "code",
      "metadata": {
        "id": "MRIUZOkNwuzX"
      },
      "source": [
        "#model\r\n",
        "model.compile(loss=\"binary_crossentropy\",optimizer=\"adam\",metrics=[\"accuracy\"])"
      ],
      "execution_count": null,
      "outputs": []
    },
    {
      "cell_type": "code",
      "metadata": {
        "colab": {
          "base_uri": "https://localhost:8080/"
        },
        "id": "5UcFZsyMy5vG",
        "outputId": "9d819367-b8bc-4b44-d636-bfe4b1e94433"
      },
      "source": [
        "#fit\r\n",
        "model.fit_generator(x_train,steps_per_epoch=163,validation_data=x_test,validation_steps=20,epochs=10)"
      ],
      "execution_count": 28,
      "outputs": [
        {
          "output_type": "stream",
          "text": [
            "/usr/local/lib/python3.6/dist-packages/tensorflow/python/keras/engine/training.py:1844: UserWarning: `Model.fit_generator` is deprecated and will be removed in a future version. Please use `Model.fit`, which supports generators.\n",
            "  warnings.warn('`Model.fit_generator` is deprecated and '\n"
          ],
          "name": "stderr"
        },
        {
          "output_type": "stream",
          "text": [
            "Epoch 1/10\n",
            "163/163 [==============================] - 5155s 32s/step - loss: 0.5145 - accuracy: 0.7453 - val_loss: 0.3332 - val_accuracy: 0.8478\n",
            "Epoch 2/10\n",
            "163/163 [==============================] - 95s 583ms/step - loss: 0.2391 - accuracy: 0.8996 - val_loss: 0.4871 - val_accuracy: 0.7869\n",
            "Epoch 3/10\n",
            "163/163 [==============================] - 95s 584ms/step - loss: 0.2241 - accuracy: 0.9071 - val_loss: 0.2989 - val_accuracy: 0.8798\n",
            "Epoch 4/10\n",
            "163/163 [==============================] - 95s 585ms/step - loss: 0.1971 - accuracy: 0.9223 - val_loss: 0.3926 - val_accuracy: 0.8494\n",
            "Epoch 5/10\n",
            "163/163 [==============================] - 95s 582ms/step - loss: 0.1678 - accuracy: 0.9333 - val_loss: 0.3239 - val_accuracy: 0.8798\n",
            "Epoch 6/10\n",
            "163/163 [==============================] - 96s 587ms/step - loss: 0.1652 - accuracy: 0.9351 - val_loss: 0.3625 - val_accuracy: 0.8718\n",
            "Epoch 7/10\n",
            "163/163 [==============================] - 95s 583ms/step - loss: 0.1745 - accuracy: 0.9344 - val_loss: 0.3011 - val_accuracy: 0.8926\n",
            "Epoch 8/10\n",
            "163/163 [==============================] - 96s 589ms/step - loss: 0.1604 - accuracy: 0.9348 - val_loss: 0.3349 - val_accuracy: 0.8798\n",
            "Epoch 9/10\n",
            "163/163 [==============================] - 95s 580ms/step - loss: 0.1397 - accuracy: 0.9443 - val_loss: 0.3934 - val_accuracy: 0.8558\n",
            "Epoch 10/10\n",
            "163/163 [==============================] - 96s 588ms/step - loss: 0.1347 - accuracy: 0.9514 - val_loss: 0.3756 - val_accuracy: 0.8814\n"
          ],
          "name": "stdout"
        },
        {
          "output_type": "execute_result",
          "data": {
            "text/plain": [
              "<tensorflow.python.keras.callbacks.History at 0x7fbad68a8c88>"
            ]
          },
          "metadata": {
            "tags": []
          },
          "execution_count": 28
        }
      ]
    },
    {
      "cell_type": "code",
      "metadata": {
        "id": "ZrN_yHZWMXYY"
      },
      "source": [
        "model.save(\"model.h5\")"
      ],
      "execution_count": 29,
      "outputs": []
    },
    {
      "cell_type": "code",
      "metadata": {
        "id": "R1Fp5FcpQ5Uv"
      },
      "source": [
        "from keras.models import load_model\r\n",
        "from keras.preprocessing import image\r\n",
        "modell=load_model(\"model.h5\")"
      ],
      "execution_count": 36,
      "outputs": []
    },
    {
      "cell_type": "code",
      "metadata": {
        "colab": {
          "base_uri": "https://localhost:8080/"
        },
        "id": "PKgHx8qcO_UQ",
        "outputId": "90a538fc-9965-4be0-8ea5-0d6404ff356b"
      },
      "source": [
        "img=image.load_img(\"/content/normchest2.jpg\",target_size=(64,64))\r\n",
        "import numpy as np\r\n",
        "x=image.img_to_array(img)\r\n",
        "x=np.expand_dims(x,axis=0)\r\n",
        "ypred = modell.predict_classes(x)\r\n",
        "index=[\"NORMAL\",\"PNEUMONIA\"]\r\n",
        "\r\n",
        "print(index[ypred[0]])"
      ],
      "execution_count": 111,
      "outputs": [
        {
          "output_type": "stream",
          "text": [
            "PNEUMONIA\n"
          ],
          "name": "stdout"
        },
        {
          "output_type": "stream",
          "text": [
            "/usr/local/lib/python3.6/dist-packages/tensorflow/python/keras/engine/sequential.py:450: UserWarning: `model.predict_classes()` is deprecated and will be removed after 2021-01-01. Please use instead:* `np.argmax(model.predict(x), axis=-1)`,   if your model does multi-class classification   (e.g. if it uses a `softmax` last-layer activation).* `(model.predict(x) > 0.5).astype(\"int32\")`,   if your model does binary classification   (e.g. if it uses a `sigmoid` last-layer activation).\n",
            "  warnings.warn('`model.predict_classes()` is deprecated and '\n"
          ],
          "name": "stderr"
        }
      ]
    },
    {
      "cell_type": "code",
      "metadata": {
        "colab": {
          "base_uri": "https://localhost:8080/"
        },
        "id": "aEXgWXKLX5N3",
        "outputId": "5929986d-50ef-4e44-c77a-5aee7f927709"
      },
      "source": [
        "ypred"
      ],
      "execution_count": 77,
      "outputs": [
        {
          "output_type": "execute_result",
          "data": {
            "text/plain": [
              "array([1])"
            ]
          },
          "metadata": {
            "tags": []
          },
          "execution_count": 77
        }
      ]
    }
  ]
}